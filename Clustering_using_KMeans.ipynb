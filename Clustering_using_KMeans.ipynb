!pip install seaborn

import numpy as np
import pandas as pd
import matplotlib.pyplot as plt
import seaborn as sns

df=pd.read_csv("/content/nigerian_spotify_songs1.csv")
df.head()

df.info()

df.describe()

df.isnull().sum()

top=df['artist_top_genre'].value_counts()
plt.figure(figsize=(10,7))
sns.barplot(x=top.index,y=top.values)
plt.xticks(rotation=45)
plt.title('Top genres',color='blue')

df=df[df['artist_top_genre']!='Missing']
top=df['artist_top_genre'].value_counts()
plt.figure(figsize=(10,7))
sns.barplot(x=top.index,y=top.values)
plt.xticks(rotation=45)
plt.title('Top genres',color='blue')

df = df[(df['artist_top_genre']=='afro dancehall')|(df['artist_top_genre']=='nigerian pop')|(df['artist_top_genre']=='afropop')]
df = df[(df['popularity']>0)]
top=df['artist_top_genre'].value_counts()
plt.figure(figsize=(10,7))
sns.barplot(x=top.index,y=top.values)
plt.xticks(rotation=45)
plt.title('Top genres',color='blue')

cormat=df.corr(numeric_only=True)
f, ax=plt.subplots(figsize=(12,9))
sns.heatmap(cormat, vmax=.8, square=True)

Data Distribution

sns.set_theme(style="ticks")
g=sns.jointplot(data=df,x="popularity",y="danceability",hue="artist_top_genre",kind="kde")

sns.FacetGrid(df,hue="artist_top_genre",height=5)\
.map(plt.scatter,"popularity","danceability")\
.add_legend()

plt.figure(figsize=(20,20), dpi=200)

plt.subplot(4,3,1)
sns.boxplot(x = 'popularity', data = df)

plt.subplot(4,3,2)
sns.boxplot(x = 'acousticness', data = df)

plt.subplot(4,3,3)
sns.boxplot(x = 'energy', data = df)

plt.subplot(4,3,4)
sns.boxplot(x = 'instrumentalness', data = df)

plt.subplot(4,3,5)
sns.boxplot(x = 'liveness', data = df)

plt.subplot(4,3,6)
sns.boxplot(x = 'loudness', data = df)

plt.subplot(4,3,7)
sns.boxplot(x = 'speechiness', data = df)

plt.subplot(4,3,8)
sns.boxplot(x = 'tempo', data = df)

plt.subplot(4,3,9)
sns.boxplot(x = 'time_signature', data = df)

plt.subplot(4,3,10)
sns.boxplot(x = 'danceability', data = df)

plt.subplot(4,3,11)
sns.boxplot(x = 'length', data = df)

plt.subplot(4,3,12)
sns.boxplot(x = 'release_date', data = df)

from sklearn.preprocessing import LabelEncoder
le=LabelEncoder()

X=df.loc[:,('artist_top_genre','popularity','danceability','acousticness','loudness','energy')]
y=df['artist_top_genre']
X['artist_top_genre']=le.fit_transform(X['artist_top_genre'])

y=le.transform(y)

from sklearn.cluster import KMeans

nclusters=3
seed=0
km=KMeans(n_clusters=nclusters,random_state=seed)
km.fit(X)

y_cluster_kmeans=km.predict(X)
y_cluster_kmeans

from sklearn import metrics
score=metrics.silhouette_score(X,y_cluster_kmeans)
score

Silhouette score
if near to 1 so well seperated clusters
if near 0 so overlapping clusters

Build A Model

from sklearn.cluster import KMeans
wcss=[]

for i in range(1,11):
  kmeans=KMeans(n_clusters=i,init='k-means++',random_state=42)
  kmeans.fit(X)
  wcss.append(kmeans.inertia_)

WCSS= within cluster sums of squares
random_state=random number generation for centroid initialization
inertia_=a measure of how internally coherent clusters are.
k-means++=helps to make centroid distinct from each other

**Elbow Method**

plt.figure(figsize=(10,5))
sns.lineplot(x=range(1,11),y=wcss,marker='o',color='red')
plt.title('The Elbow Method')
plt.xlabel('Number of clusters')
plt.ylabel('WCSS')
plt.show()

from sklearn.cluster import KMeans
kmeans = KMeans(n_clusters = 3)
kmeans.fit(X)
labels = kmeans.predict(X)
plt.scatter(df['popularity'],df['danceability'],c = labels)
plt.xlabel('popularity')
plt.ylabel('danceability')
plt.show()

labels = kmeans.labels_

correct_labels = sum(y == labels)

print("Result: %d out of %d samples were correctly labeled." % (correct_labels, y.size))

print('Accuracy score: {0:0.2f}'. format(correct_labels/float(y.size)))
