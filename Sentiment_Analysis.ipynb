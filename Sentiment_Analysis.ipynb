{
  "cells": [
    {
      "cell_type": "code",
      "execution_count": 1,
      "metadata": {
        "colab": {
          "base_uri": "https://localhost:8080/"
        },
        "id": "a3ueG4RBtR-8",
        "outputId": "a574e1d7-4082-48d1-f9d0-6c668b449343"
      },
      "outputs": [
        {
          "output_type": "stream",
          "name": "stdout",
          "text": [
            "Requirement already satisfied: textblob in /usr/local/lib/python3.12/dist-packages (0.19.0)\n",
            "Requirement already satisfied: nltk>=3.9 in /usr/local/lib/python3.12/dist-packages (from textblob) (3.9.1)\n",
            "Requirement already satisfied: click in /usr/local/lib/python3.12/dist-packages (from nltk>=3.9->textblob) (8.2.1)\n",
            "Requirement already satisfied: joblib in /usr/local/lib/python3.12/dist-packages (from nltk>=3.9->textblob) (1.5.2)\n",
            "Requirement already satisfied: regex>=2021.8.3 in /usr/local/lib/python3.12/dist-packages (from nltk>=3.9->textblob) (2024.11.6)\n",
            "Requirement already satisfied: tqdm in /usr/local/lib/python3.12/dist-packages (from nltk>=3.9->textblob) (4.67.1)\n",
            "[nltk_data] Downloading package brown to /root/nltk_data...\n",
            "[nltk_data]   Package brown is already up-to-date!\n",
            "[nltk_data] Downloading package punkt_tab to /root/nltk_data...\n",
            "[nltk_data]   Package punkt_tab is already up-to-date!\n",
            "[nltk_data] Downloading package wordnet to /root/nltk_data...\n",
            "[nltk_data]   Package wordnet is already up-to-date!\n",
            "[nltk_data] Downloading package averaged_perceptron_tagger_eng to\n",
            "[nltk_data]     /root/nltk_data...\n",
            "[nltk_data]   Package averaged_perceptron_tagger_eng is already up-to-\n",
            "[nltk_data]       date!\n",
            "[nltk_data] Downloading package conll2000 to /root/nltk_data...\n",
            "[nltk_data]   Package conll2000 is already up-to-date!\n",
            "[nltk_data] Downloading package movie_reviews to /root/nltk_data...\n",
            "[nltk_data]   Package movie_reviews is already up-to-date!\n",
            "Finished.\n"
          ]
        }
      ],
      "source": [
        "!pip install -U textblob\n",
        "!python -m textblob.download_corpora"
      ]
    },
    {
      "cell_type": "code",
      "execution_count": 2,
      "metadata": {
        "colab": {
          "base_uri": "https://localhost:8080/"
        },
        "id": "GKmXWBzD0Hb7",
        "outputId": "4e8dcbd4-aef2-45e1-9ffe-322965683286"
      },
      "outputs": [
        {
          "output_type": "stream",
          "name": "stdout",
          "text": [
            "Hello my name is Ash, I am your stress reducer.\n",
            "Tell me about you.\n",
            "> bye\n",
            "See You!\n"
          ]
        }
      ],
      "source": [
        "import random\n",
        "\n",
        "response=['Tell me about u?','Its so nice of u!','Its interesting, tell me something more about u.','I guess I am falling in love for you.','Hey, U dare to say that.','Say Sorry!','Sory to hear that.']\n",
        "print(\"Hello my name is Ash, I am your stress reducer.\")\n",
        "print(\"Tell me about you.\")\n",
        "while True:\n",
        "  user_input=input(\"> \")\n",
        "  if(user_input.lower()==\"bye\"):\n",
        "    break\n",
        "  else:\n",
        "   print(random.choice(response))\n",
        "print(\"See You!\")"
      ]
    },
    {
      "cell_type": "code",
      "source": [
        "import random\n",
        "from textblob import TextBlob\n",
        "from textblob.np_extractors import ConllExtractor\n",
        "\n",
        "# import and create a Conll extractor to use later\n",
        "extractor = ConllExtractor()\n",
        "print(\"Hello my name is Ash, I am your stress reducer.\")\n",
        "print(\"Tell me about your day.\")\n",
        "\n",
        "# later when you need a noun phrase extractor:\n",
        "while True:\n",
        "  user_input=input(\"> \")\n",
        "  if(user_input.lower()==\"bye\"):\n",
        "    break\n",
        "  else:\n",
        "    user_input_blob = TextBlob(user_input, np_extractor=extractor)  # note non-default extractor specified\n",
        "    np = user_input_blob.noun_phrases\n",
        "    if user_input_blob.polarity <= -0.5:\n",
        "      response = \"Oh dear, that sounds bad. \"\n",
        "    elif user_input_blob.polarity <= 0:\n",
        "      response = \"Hmm, that's not great. \"\n",
        "    elif user_input_blob.polarity <= 0.5:\n",
        "      response = \"Well, that sounds positive. \"\n",
        "    elif user_input_blob.polarity <= 1:\n",
        "      response = \"Wow, that sounds great. \"\n",
        "  print(response)\n",
        "  print(\"Tell me more about\")\n",
        "  take=input(\"> \")\n",
        "  if(take.lower()==\"bye\"):\n",
        "    break\n",
        "  else:\n",
        "   print(random.choice(response))\n",
        "print(\"See You!\")"
      ],
      "metadata": {
        "colab": {
          "base_uri": "https://localhost:8080/"
        },
        "id": "_-vOm-ngKDoX",
        "outputId": "b8c07984-3a6e-46e6-bd9b-6ee4e3cdf760"
      },
      "execution_count": 5,
      "outputs": [
        {
          "output_type": "stream",
          "name": "stdout",
          "text": [
            "Hello my name is Ash, I am your stress reducer.\n",
            "Tell me about your day.\n",
            "> bye\n",
            "See You!\n"
          ]
        }
      ]
    },
    {
      "cell_type": "code",
      "source": [
        "from textblob import TextBlob\n",
        "\n",
        "quote1 = \"\"\"It is a truth universally acknowledged, that a single man in possession of a good fortune, must be in want of a wife.\"\"\"\n",
        "\n",
        "quote2 = \"\"\"Darcy, as well as Elizabeth, really loved them; and they were both ever sensible of the warmest gratitude towards the persons who, by bringing her into Derbyshire, had been the means of uniting them.\"\"\"\n",
        "\n",
        "sentiment1 = TextBlob(quote1).sentiment\n",
        "sentiment2 = TextBlob(quote2).sentiment\n",
        "\n",
        "print(quote1 + \" has a sentiment of \" + str(sentiment1))\n",
        "print(quote2 + \" has a sentiment of \" + str(sentiment2))"
      ],
      "metadata": {
        "colab": {
          "base_uri": "https://localhost:8080/"
        },
        "id": "1KyARCHJrmLi",
        "outputId": "be731958-d69d-4a82-e765-0171ed236a65"
      },
      "execution_count": 4,
      "outputs": [
        {
          "output_type": "stream",
          "name": "stdout",
          "text": [
            "It is a truth universally acknowledged, that a single man in possession of a good fortune, must be in want of a wife. has a sentiment of Sentiment(polarity=0.20952380952380953, subjectivity=0.27142857142857146)\n",
            "Darcy, as well as Elizabeth, really loved them; and they were both ever sensible of the warmest gratitude towards the persons who, by bringing her into Derbyshire, had been the means of uniting them. has a sentiment of Sentiment(polarity=0.7, subjectivity=0.8)\n"
          ]
        }
      ]
    },
    {
      "cell_type": "code",
      "source": [
        "from textblob import TextBlob\n",
        "# You should download the book text, clean it, and import it here\n",
        "with open(\"/content/Walt Whitman has somewhere a fine a.txt\", encoding=\"utf8\") as f:\n",
        "    file_contents = f.read()\n",
        "book_pride = TextBlob(file_contents)\n",
        "positive_sentiment_sentences = []\n",
        "negative_sentiment_sentences = []\n",
        "for sentence in book_pride.sentences:\n",
        "    if sentence.sentiment.polarity == 1:\n",
        "        positive_sentiment_sentences.append(sentence)\n",
        "    if sentence.sentiment.polarity == -1:\n",
        "        negative_sentiment_sentences.append(sentence)\n",
        "print(\"The \" + str(len(positive_sentiment_sentences)) + \" most positive sentences:\")\n",
        "for sentence in positive_sentiment_sentences:\n",
        "    print(\"+ \" + str(sentence.replace(\"\\n\", \"\").replace(\"      \", \" \")))\n",
        "print(\"The \" + str(len(negative_sentiment_sentences)) + \" most negative sentences:\")\n",
        "for sentence in negative_sentiment_sentences:\n",
        "    print(\"- \" + str(sentence.replace(\"\\n\", \"\").replace(\"      \", \" \")))"
      ],
      "metadata": {
        "colab": {
          "base_uri": "https://localhost:8080/"
        },
        "id": "nmFhe4VmwUqY",
        "outputId": "17c2d844-ffbb-47ec-8d11-2b32862a94c4"
      },
      "execution_count": 7,
      "outputs": [
        {
          "output_type": "stream",
          "name": "stdout",
          "text": [
            "The 3 most positive sentences:\n",
            "+ “An excellent consolation in its way,” said Elizabeth; “but it will not do for us.\n",
            "+ The improvement of spending a night in London was added in time, and the plan became as perfect as plan could be.\n",
            "+ She is a very great favourite with some ladies of my acquaintance, Mrs. Hurst and Miss Bingley.\n",
            "The 1 most negative sentences:\n",
            "- “I should like to know how he behaves among strangers.”“You shall hear, then—but prepare for something very{219} dreadful.\n"
          ]
        }
      ]
    },
    {
      "cell_type": "code",
      "source": [],
      "metadata": {
        "id": "17skLn8lyYqm"
      },
      "execution_count": null,
      "outputs": []
    }
  ],
  "metadata": {
    "colab": {
      "provenance": [],
      "authorship_tag": "ABX9TyM79XNYC8vMe/Rp5Ffj+ucM"
    },
    "kernelspec": {
      "display_name": "Python 3",
      "name": "python3"
    },
    "language_info": {
      "name": "python"
    }
  },
  "nbformat": 4,
  "nbformat_minor": 0
}