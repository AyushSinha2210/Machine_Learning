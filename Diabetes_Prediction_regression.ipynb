# Import necessary libraries
import matplotlib.pyplot as plt
import numpy as np
import pandas as pd
from sklearn import datasets, linear_model, model_selection

# Load the Linnerud dataset (a multivariate regression dataset)
linnerud = datasets.load_linnerud()

# Extract features: s1, s2, s3 represent 'Chins', 'Situps', 'Jumps' respectively
s1 = linnerud.data[:, 0].reshape(-1, 1)  # Chins
s2 = linnerud.data[:, 1].reshape(-1, 1)  # Situps
s3 = linnerud.data[:, 2].reshape(-1, 1)  # Jumps

# Extract target variable: here we're using the first target variable (Weight)
y = linnerud.target[:, 0]

# Split data into training and testing sets for each feature and the target
# We stack s1, s2, s3 together to form a complete feature set for proper splitting
X = np.hstack((s1, s2, s3))
X_train, X_test, y_train, y_test = model_selection.train_test_split(X, y, test_size=0.2, random_state=42)

# Create and train a linear regression model
model = linear_model.LinearRegression()
model.fit(X_train, y_train)

# Predict using the test data
y_pred = model.predict(X_test)

# For visualization, we can plot one feature against the target; here we choose s1 (Chins)
# We'll plot the first column of X_test (s1) against actual and predicted target values
plt.scatter(X_test[:, 0], y_test, color='black', label='Actual')        # Actual data
plt.scatter(X_test[:, 0], y_pred, color='blue', label='Predicted')      # Predicted data

plt.xlabel('Chins (s1)')
plt.ylabel('Weight (target)')
plt.title('Linnerud Dataset: Weight vs Chins')
plt.legend()
plt.show()
